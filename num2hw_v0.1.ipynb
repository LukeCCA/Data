{
 "cells": [
  {
   "cell_type": "code",
   "execution_count": 1,
   "metadata": {},
   "outputs": [
    {
     "data": {
      "text/plain": [
       "'肆佰元整'"
      ]
     },
     "execution_count": 1,
     "metadata": {},
     "output_type": "execute_result"
    }
   ],
   "source": [
    "import numpy as np\n",
    "import pandas as pd\n",
    "\n",
    "unit1, unit2, unit3 = ['仟', '佰', '拾', ''], ['仟', '佰', '拾', ''], ['仟', '佰', '拾', '']\n",
    "def num_to_hw(num):\n",
    "    all_input = num_to_list(num)\n",
    "    part1, part2, part3 = all_input[0:4], all_input[4:8], all_input[8:12]\n",
    "    result1, result2, result3 = judge(part1, unit1), judge(part2, unit2), judge(part3, unit3)\n",
    "    if result1 != ['']: result1 = result1 + ['億']\n",
    "    if result2 != ['']: result2 = result2 + ['萬']\n",
    "    \n",
    "    hw_dict = {0: '零', 1: '壹', 2: '貳', 3: '參', 4: '肆', \n",
    "               5: '伍', 6: '陸', 7: '柒', 8: '捌', 9: '玖'\n",
    "              }\n",
    "    hand_writing =  [hw_dict.get(item, item) for item in (result1)] + \\\n",
    "                    [hw_dict.get(item, item) for item in (result2)] + \\\n",
    "                    [hw_dict.get(item, item) for item in (result3)] + ['元整']\n",
    "    return ''.join(hand_writing)\n",
    "\n",
    "def num_to_list(num):\n",
    "    all_input = np.zeros(12, dtype=int)\n",
    "    \n",
    "    i = 1\n",
    "    while i <= 12:\n",
    "        p = num / 10\n",
    "        s = str(p)[::-1][0:1]   \n",
    "        all_input[i-1] = s\n",
    "        \n",
    "        num = int(p)\n",
    "        i = i + 1\n",
    "    \n",
    "    all_input = all_input[::-1]\n",
    "    return all_input\n",
    "\n",
    "def judge(num_arr, unit_arr):\n",
    "    res = []\n",
    "    # 特殊狀況1：全部是0\n",
    "    if(num_arr.sum() == 0):\n",
    "        res = ['']\n",
    "    \n",
    "    # 特殊狀況2：中間兩位數為0，且頭尾不為0\n",
    "    elif((num_arr[1:3].sum() == 0) & (num_arr[0]>0) & (num_arr[3]>0)):\n",
    "        res = res + [num_arr[0], unit_arr[0], 0, num_arr[3], unit_arr[3]]\n",
    "    \n",
    "    # 一般狀況\n",
    "    else:   \n",
    "        res = [i for pair in zip(num_arr.tolist(), unit_arr) for i in pair if(pair[0] != 0)]\n",
    "\n",
    "    return res\n",
    "\n",
    "# test = num_to_hw(2154683)\n",
    "# test"
   ]
  }
 ],
 "metadata": {
  "kernelspec": {
   "display_name": "Python [conda env:python3]",
   "language": "python",
   "name": "conda-env-python3-py"
  },
  "language_info": {
   "codemirror_mode": {
    "name": "ipython",
    "version": 3
   },
   "file_extension": ".py",
   "mimetype": "text/x-python",
   "name": "python",
   "nbconvert_exporter": "python",
   "pygments_lexer": "ipython3",
   "version": "3.6.6"
  }
 },
 "nbformat": 4,
 "nbformat_minor": 2
}
