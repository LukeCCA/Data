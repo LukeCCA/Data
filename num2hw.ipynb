{
 "cells": [
  {
   "cell_type": "markdown",
   "metadata": {},
   "source": [
    "### V1.0"
   ]
  },
  {
   "cell_type": "code",
   "execution_count": 242,
   "metadata": {},
   "outputs": [],
   "source": [
    "import numpy as np\n",
    "import pandas as pd\n",
    "\n",
    "def num_to_hw(num):\n",
    "    all_input = num_to_list(num)\n",
    "    \n",
    "    part1, part2, part3 = all_input[0:4], all_input[4:8], all_input[8:12]\n",
    "    unit1, unit2, unit3 = ['仟', '佰', '拾', ''], ['仟', '佰', '拾', ''], ['仟', '佰', '拾', '']\n",
    "    result1, result2, result3 = judge(part1, unit1), judge(part2, unit2), judge(part3, unit3)\n",
    "    \n",
    "    if result1 != ['']: result1 = result1 + ['億']\n",
    "    if result2 != ['']: result2 = result2 + ['萬']\n",
    "    \n",
    "    hw_dict = {0: '零', 1: '壹', 2: '貳', 3: '參', 4: '肆', \n",
    "               5: '伍', 6: '陸', 7: '柒', 8: '捌', 9: '玖'\n",
    "              }\n",
    "    hand_writing =  [hw_dict.get(item, item) for item in (result1)] + \\\n",
    "                    [hw_dict.get(item, item) for item in (result2)] + \\\n",
    "                    [hw_dict.get(item, item) for item in (result3)] + ['元整']\n",
    "    \n",
    "    return ''.join(hand_writing)\n",
    "\n",
    "def num_to_list(num):\n",
    "    all_input = np.zeros(12, dtype=int)\n",
    "    \n",
    "    i = 1\n",
    "    while i <= 12:\n",
    "        p = num / 10\n",
    "        s = str(p)[::-1][0:1]   \n",
    "        all_input[i-1] = s\n",
    "        \n",
    "        num = int(p)\n",
    "        i = i + 1\n",
    "    \n",
    "    all_input = all_input[::-1]\n",
    "    return all_input\n",
    "\n",
    "def judge(num_arr, unit_arr):\n",
    "    res = []\n",
    "    # 特殊狀況1：全部是0\n",
    "    if(num_arr.sum() == 0):\n",
    "        res = ['']\n",
    "    \n",
    "    # 特殊狀況2：中間兩位數為0，且頭尾不為0\n",
    "    elif((num_arr[1:3].sum() == 0) & (num_arr[0]>0) & (num_arr[3]>0)):\n",
    "        res = res + [num_arr[0], unit_arr[0], 0, num_arr[3], unit_arr[3]]\n",
    "    \n",
    "    # 一般狀況\n",
    "    else:   \n",
    "        res = [i for pair in zip(num_arr.tolist(), unit_arr) for i in pair if(pair[0] != 0)]\n",
    "\n",
    "    return res\n",
    "\n",
    "# test = num_to_hw(2154683)\n",
    "# test"
   ]
  },
  {
   "cell_type": "code",
   "execution_count": 244,
   "metadata": {},
   "outputs": [
    {
     "data": {
      "text/plain": [
       "'肆佰萬元整'"
      ]
     },
     "execution_count": 244,
     "metadata": {},
     "output_type": "execute_result"
    }
   ],
   "source": [
    "test = num_to_hw(4000000)\n",
    "test"
   ]
  },
  {
   "cell_type": "code",
   "execution_count": 245,
   "metadata": {},
   "outputs": [],
   "source": [
    "check_label_v2 = pd.read_csv('check_label_v2.csv')"
   ]
  },
  {
   "cell_type": "code",
   "execution_count": 246,
   "metadata": {},
   "outputs": [],
   "source": [
    "check_label_v2['Amount_hw'] = check_label_v2.Amount.apply(lambda x : num_to_hw(x))"
   ]
  },
  {
   "cell_type": "code",
   "execution_count": 247,
   "metadata": {},
   "outputs": [
    {
     "data": {
      "text/html": [
       "<div>\n",
       "<style scoped>\n",
       "    .dataframe tbody tr th:only-of-type {\n",
       "        vertical-align: middle;\n",
       "    }\n",
       "\n",
       "    .dataframe tbody tr th {\n",
       "        vertical-align: top;\n",
       "    }\n",
       "\n",
       "    .dataframe thead th {\n",
       "        text-align: right;\n",
       "    }\n",
       "</style>\n",
       "<table border=\"1\" class=\"dataframe\">\n",
       "  <thead>\n",
       "    <tr style=\"text-align: right;\">\n",
       "      <th></th>\n",
       "      <th>Img_SerNo</th>\n",
       "      <th>Amount</th>\n",
       "      <th>Amount_hw</th>\n",
       "    </tr>\n",
       "  </thead>\n",
       "  <tbody>\n",
       "    <tr>\n",
       "      <th>0</th>\n",
       "      <td>GF11012962590040</td>\n",
       "      <td>17636</td>\n",
       "      <td>壹萬柒仟陸佰參拾陸元整</td>\n",
       "    </tr>\n",
       "    <tr>\n",
       "      <th>1</th>\n",
       "      <td>GF11241968890084</td>\n",
       "      <td>350000</td>\n",
       "      <td>參拾伍萬元整</td>\n",
       "    </tr>\n",
       "  </tbody>\n",
       "</table>\n",
       "</div>"
      ],
      "text/plain": [
       "          Img_SerNo  Amount    Amount_hw\n",
       "0  GF11012962590040   17636  壹萬柒仟陸佰參拾陸元整\n",
       "1  GF11241968890084  350000       參拾伍萬元整"
      ]
     },
     "execution_count": 247,
     "metadata": {},
     "output_type": "execute_result"
    }
   ],
   "source": [
    "check_label_v2.head(2)"
   ]
  },
  {
   "cell_type": "code",
   "execution_count": 249,
   "metadata": {},
   "outputs": [],
   "source": [
    "path = 'check_label_v4.csv'\n",
    "check_label_v2.to_csv(path, index=False, encoding='big5') "
   ]
  },
  {
   "cell_type": "code",
   "execution_count": 250,
   "metadata": {},
   "outputs": [
    {
     "data": {
      "text/html": [
       "<a href='check_label_v4.csv' target='_blank'>check_label_v4.csv</a><br>"
      ],
      "text/plain": [
       "/image/EricWang/check_label_v4.csv"
      ]
     },
     "execution_count": 250,
     "metadata": {},
     "output_type": "execute_result"
    }
   ],
   "source": [
    "from IPython.display import FileLink\n",
    "FileLink(path)"
   ]
  },
  {
   "cell_type": "markdown",
   "metadata": {},
   "source": [
    "### v0.8"
   ]
  },
  {
   "cell_type": "code",
   "execution_count": 229,
   "metadata": {},
   "outputs": [],
   "source": [
    "import numpy as np"
   ]
  },
  {
   "cell_type": "code",
   "execution_count": 230,
   "metadata": {},
   "outputs": [],
   "source": [
    "def num_to_hw(num):\n",
    "    all_input = np.zeros(12, dtype=int)\n",
    "    \n",
    "    i = 1\n",
    "    while i <= 12:\n",
    "        p = num / 10\n",
    "        s = str(p)[::-1][0:1]   \n",
    "        all_input[i-1] = s\n",
    "        \n",
    "        num = int(p)\n",
    "        i = i + 1\n",
    "    \n",
    "    all_input = all_input[::-1]\n",
    "    return all_input"
   ]
  },
  {
   "cell_type": "code",
   "execution_count": 231,
   "metadata": {},
   "outputs": [
    {
     "data": {
      "text/plain": [
       "array([0, 0, 0, 0, 0, 0, 4, 0, 0, 0, 0, 0])"
      ]
     },
     "execution_count": 231,
     "metadata": {},
     "output_type": "execute_result"
    }
   ],
   "source": [
    "all_input = num_to_hw(400000)\n",
    "all_input"
   ]
  },
  {
   "cell_type": "code",
   "execution_count": 232,
   "metadata": {},
   "outputs": [
    {
     "data": {
      "text/plain": [
       "(array([0, 0, 0, 0]), array([0, 0, 4, 0]), array([0, 0, 0, 0]))"
      ]
     },
     "execution_count": 232,
     "metadata": {},
     "output_type": "execute_result"
    }
   ],
   "source": [
    "part1, part2, part3 = all_input[0:4], all_input[4:8], all_input[8:12]\n",
    "part1, part2, part3"
   ]
  },
  {
   "cell_type": "code",
   "execution_count": 233,
   "metadata": {},
   "outputs": [],
   "source": [
    "unit1, unit2, unit3 = ['仟', '佰', '拾', '億'], ['仟', '佰', '拾', '萬'], ['仟', '佰', '拾', '元']"
   ]
  },
  {
   "cell_type": "code",
   "execution_count": 234,
   "metadata": {},
   "outputs": [],
   "source": [
    "def judge(num_arr, unit_arr):\n",
    "    res = []\n",
    "    # 特殊狀況1：全部是0\n",
    "    if(num_arr.sum() == 0):\n",
    "        res = ['']\n",
    "    \n",
    "    # 特殊狀況2：中間兩位數為0，且頭尾不為0\n",
    "    elif((num_arr[1:3].sum() == 0) & (num_arr[0]>0) & (num_arr[3]>0)):\n",
    "        res = res + [num_arr[0], unit_arr[0], 0, num_arr[3], unit_arr[3]]\n",
    "    \n",
    "    # 一般狀況\n",
    "    else:   \n",
    "        res = [i for pair in zip(num_arr.tolist(), unit_arr) for i in pair if(pair[0] != 0)]\n",
    "\n",
    "    return res\n"
   ]
  },
  {
   "cell_type": "code",
   "execution_count": 235,
   "metadata": {},
   "outputs": [
    {
     "data": {
      "text/plain": [
       "([''], [4, '拾'], [''])"
      ]
     },
     "execution_count": 235,
     "metadata": {},
     "output_type": "execute_result"
    }
   ],
   "source": [
    "result1, result2, result3 = judge(part1, unit1), judge(part2, unit2), judge(part3, unit3)\n",
    "result1, result2, result3"
   ]
  },
  {
   "cell_type": "code",
   "execution_count": 237,
   "metadata": {},
   "outputs": [
    {
     "data": {
      "text/plain": [
       "True"
      ]
     },
     "execution_count": 237,
     "metadata": {},
     "output_type": "execute_result"
    }
   ],
   "source": [
    "result1 == ['']"
   ]
  },
  {
   "cell_type": "code",
   "execution_count": 188,
   "metadata": {},
   "outputs": [
    {
     "data": {
      "text/plain": [
       "['貳', '仟', '零', '參', '元']"
      ]
     },
     "execution_count": 188,
     "metadata": {},
     "output_type": "execute_result"
    }
   ],
   "source": [
    "hw_dict = {0: '零', 1: '壹', 2: '貳', 3: '參', 4: '肆', \n",
    "           5: '伍', 6: '陸', 7: '柒', 8: '捌', 9: '玖'\n",
    "          }\n",
    "\n",
    "xx = [hw_dict.get(item, item) for item in result3]"
   ]
  }
 ],
 "metadata": {
  "kernelspec": {
   "display_name": "Python [conda env:python3]",
   "language": "python",
   "name": "conda-env-python3-py"
  },
  "language_info": {
   "codemirror_mode": {
    "name": "ipython",
    "version": 3
   },
   "file_extension": ".py",
   "mimetype": "text/x-python",
   "name": "python",
   "nbconvert_exporter": "python",
   "pygments_lexer": "ipython3",
   "version": "3.6.6"
  }
 },
 "nbformat": 4,
 "nbformat_minor": 2
}
