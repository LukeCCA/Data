{
 "cells": [
  {
   "cell_type": "code",
   "execution_count": 151,
   "metadata": {},
   "outputs": [],
   "source": [
    "# 格式：要有'元整'\n",
    "s = '貳拾萬零伍拾元整'"
   ]
  },
  {
   "cell_type": "code",
   "execution_count": 152,
   "metadata": {},
   "outputs": [
    {
     "data": {
      "text/plain": [
       "['元', '拾', '伍', '零', '萬', '拾', '貳']"
      ]
     },
     "execution_count": 152,
     "metadata": {},
     "output_type": "execute_result"
    }
   ],
   "source": [
    "alist = [i for i in s if i != '整']\n",
    "alist = alist[::-1]\n",
    "alist"
   ]
  },
  {
   "cell_type": "code",
   "execution_count": 153,
   "metadata": {},
   "outputs": [
    {
     "data": {
      "text/plain": [
       "['元', '萬', '億']"
      ]
     },
     "execution_count": 153,
     "metadata": {},
     "output_type": "execute_result"
    }
   ],
   "source": [
    "unit = ['億', '萬', '元']\n",
    "unit = unit[::-1]\n",
    "unit"
   ]
  },
  {
   "cell_type": "code",
   "execution_count": 154,
   "metadata": {},
   "outputs": [
    {
     "name": "stdout",
     "output_type": "stream",
     "text": [
      "0 元\n",
      "4 萬\n"
     ]
    }
   ],
   "source": [
    "split_pos = []\n",
    "for i in unit:\n",
    "    try:\n",
    "        split_pos += [alist.index(i)]\n",
    "        print(alist.index(i), i)\n",
    "    except:\n",
    "        pass"
   ]
  },
  {
   "cell_type": "code",
   "execution_count": 155,
   "metadata": {},
   "outputs": [],
   "source": [
    "n_split = len(split_pos)\n",
    "\n",
    "if n_split == 1: part = [alist[split_pos[0]:]]\n",
    "elif n_split == 2: part = [alist[split_pos[0]:split_pos[1]], alist[split_pos[1]:]]\n",
    "elif n_split == 3: part = [alist[split_pos[0]:split_pos[1]], alist[split_pos[1]:split_pos[2]], alist[split_pos[2]:]]"
   ]
  },
  {
   "cell_type": "code",
   "execution_count": 159,
   "metadata": {},
   "outputs": [
    {
     "data": {
      "text/plain": [
       "[['萬', '拾', '貳'], ['元', '拾', '伍', '零']]"
      ]
     },
     "execution_count": 159,
     "metadata": {},
     "output_type": "execute_result"
    }
   ],
   "source": [
    "part = part[::-1]\n",
    "part"
   ]
  },
  {
   "cell_type": "code",
   "execution_count": 167,
   "metadata": {},
   "outputs": [
    {
     "data": {
      "text/plain": [
       "['零', '伍', '拾元', '貳', '拾萬']"
      ]
     },
     "execution_count": 167,
     "metadata": {},
     "output_type": "execute_result"
    }
   ],
   "source": [
    "final_pre = []\n",
    "for lst in part:\n",
    "    for i in lst:\n",
    "        if (i == '拾' or i == '佰' or i == '仟'):\n",
    "            i += lst[0]\n",
    "            final_pre.append(i)\n",
    "            final_pre.remove(lst[0])            \n",
    "        else:\n",
    "            final_pre.append(i)\n",
    "\n",
    "final_pre = final_pre[::-1]\n",
    "final_pre"
   ]
  },
  {
   "cell_type": "code",
   "execution_count": 166,
   "metadata": {},
   "outputs": [],
   "source": [
    "hw_dict = {0: '零', 1: '壹', 2: '貳', 3: '參', 4: '肆', \n",
    "           5: '伍', 6: '陸', 7: '柒', 8: '捌', 9: '玖'}\n",
    "num_dict = {v: k for k, v in hw_dict.items()}\n",
    "\n",
    "unit_dict = {1: '元', 10: '拾元', 100: '佰元', 1000: '仟元',\n",
    "             10000: '萬', 100000: '拾萬', 1000000: '佰萬', 10000000: '仟萬',\n",
    "             100000000: '億', 1000000000: '拾億', 10000000000: '佰億', 100000000000: '仟億'\n",
    "            }\n",
    "unit_dict = {y:x for x, y in unit_dict.items()}"
   ]
  },
  {
   "cell_type": "code",
   "execution_count": 169,
   "metadata": {},
   "outputs": [
    {
     "data": {
      "text/plain": [
       "['0', '5', '10', '2', '100000']"
      ]
     },
     "execution_count": 169,
     "metadata": {},
     "output_type": "execute_result"
    }
   ],
   "source": [
    "a = [str(num_dict.get(item, item)) for item in final_pre]\n",
    "a\n",
    "b = [str(unit_dict.get(item, item)) for item in a]\n",
    "b"
   ]
  },
  {
   "cell_type": "code",
   "execution_count": 171,
   "metadata": {},
   "outputs": [
    {
     "data": {
      "text/plain": [
       "'5*10+2*100000'"
      ]
     },
     "execution_count": 171,
     "metadata": {},
     "output_type": "execute_result"
    }
   ],
   "source": [
    "xxx = '5*10+2*100000'\n",
    "xxx"
   ]
  },
  {
   "cell_type": "code",
   "execution_count": 172,
   "metadata": {},
   "outputs": [
    {
     "ename": "ValueError",
     "evalue": "invalid literal for int() with base 10: '5*10+2*100000'",
     "output_type": "error",
     "traceback": [
      "\u001b[0;31m---------------------------------------------------------------------------\u001b[0m",
      "\u001b[0;31mValueError\u001b[0m                                Traceback (most recent call last)",
      "\u001b[0;32m<ipython-input-172-8a0b4342f209>\u001b[0m in \u001b[0;36m<module>\u001b[0;34m()\u001b[0m\n\u001b[0;32m----> 1\u001b[0;31m \u001b[0mint\u001b[0m\u001b[0;34m(\u001b[0m\u001b[0mxxx\u001b[0m\u001b[0;34m)\u001b[0m\u001b[0;34m\u001b[0m\u001b[0m\n\u001b[0m",
      "\u001b[0;31mValueError\u001b[0m: invalid literal for int() with base 10: '5*10+2*100000'"
     ]
    }
   ],
   "source": [
    "int(xxx)"
   ]
  },
  {
   "cell_type": "code",
   "execution_count": null,
   "metadata": {},
   "outputs": [],
   "source": []
  }
 ],
 "metadata": {
  "kernelspec": {
   "display_name": "Python [conda env:python3]",
   "language": "python",
   "name": "conda-env-python3-py"
  },
  "language_info": {
   "codemirror_mode": {
    "name": "ipython",
    "version": 3
   },
   "file_extension": ".py",
   "mimetype": "text/x-python",
   "name": "python",
   "nbconvert_exporter": "python",
   "pygments_lexer": "ipython3",
   "version": "3.6.6"
  }
 },
 "nbformat": 4,
 "nbformat_minor": 2
}
